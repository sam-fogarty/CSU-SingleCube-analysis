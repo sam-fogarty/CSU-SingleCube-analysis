{
 "cells": [
  {
   "cell_type": "code",
   "execution_count": 1,
   "id": "6b035287",
   "metadata": {},
   "outputs": [
    {
     "data": {
      "application/vnd.jupyter.widget-view+json": {
       "model_id": "3d8e584e72b847b2a233e6fa471b20c5",
       "version_major": 2,
       "version_minor": 0
      },
      "text/plain": [
       "FigureWidget({\n",
       "    'data': [],\n",
       "    'layout': {'autosize': False,\n",
       "               'height': 600,\n",
       "               'template': '...',\n",
       "               'title': {'automargin': False,\n",
       "                         'font': {'size': 20},\n",
       "                         'text': 'Liquid Argon Level Percentage',\n",
       "                         'yref': 'paper'},\n",
       "               'width': 1000,\n",
       "               'xaxis': {'title': {'text': 'Time since start (seconds)'}},\n",
       "               'yaxis': {'range': [0, 50], 'title': {'text': 'Level %'}}}\n",
       "})"
      ]
     },
     "execution_count": 1,
     "metadata": {},
     "output_type": "execute_result"
    }
   ],
   "source": [
    "# create live figure\n",
    "import plotly.graph_objects as go\n",
    "\n",
    "fig = go.FigureWidget(go.Figure())\n",
    "\n",
    "fig.update_layout(\n",
    "    autosize=False,\n",
    "    width=1000,\n",
    "    height=600,)\n",
    "\n",
    "fig.update_layout(\n",
    "    title=dict(text=\"Liquid Argon Level Percentage\", font=dict(size=20), automargin=False, yref='paper'),\n",
    "    xaxis_title=dict(text=\"Time since start (seconds)\"),\n",
    "    yaxis_title=dict(text=\"Level %\")\n",
    ")\n",
    "ymin=0\n",
    "ymax=50\n",
    "fig.update_layout(yaxis_range=[ymin,ymax])\n",
    "fig\n",
    "\n"
   ]
  },
  {
   "cell_type": "code",
   "execution_count": null,
   "id": "1ce2e83f",
   "metadata": {},
   "outputs": [],
   "source": [
    "ymax=25\n",
    "fig.update_layout(yaxis_range=[15,ymax])"
   ]
  },
  {
   "cell_type": "code",
   "execution_count": 2,
   "id": "3428710e",
   "metadata": {},
   "outputs": [],
   "source": [
    "# create arrays to store values\n",
    "import time\n",
    "times = []\n",
    "levels = []\n",
    "initial_time = time.time()"
   ]
  },
  {
   "cell_type": "code",
   "execution_count": null,
   "id": "25743f88",
   "metadata": {},
   "outputs": [
    {
     "name": "stderr",
     "output_type": "stream",
     "text": [
      "--2023-12-19 08:27:53--  http://129.82.140.70/\n",
      "Connecting to 129.82.140.70:80... connected.\n",
      "HTTP request sent, awaiting response... 200 OK\n",
      "Length: unspecified [text/html]\n",
      "Saving to: ‘index.html’\n",
      "\n",
      "     0K .......... .......... .......... .......... .......... 4.22M\n",
      "    50K .......... .......... ..                               1.54M=0.03s\n",
      "\n",
      "2023-12-19 08:27:53 (2.74 MB/s) - ‘index.html’ saved [74091]\n",
      "\n"
     ]
    },
    {
     "name": "stdout",
     "output_type": "stream",
     "text": [
      "level =  19.9\n",
      "total time elapsed per loop:  0.06051754951477051\n"
     ]
    },
    {
     "name": "stderr",
     "output_type": "stream",
     "text": [
      "--2023-12-19 08:28:53--  http://129.82.140.70/\n",
      "Connecting to 129.82.140.70:80... connected.\n",
      "HTTP request sent, awaiting response... 200 OK\n",
      "Length: unspecified [text/html]\n",
      "Saving to: ‘index.html’\n",
      "\n",
      "     0K .......... .......... .......... .......... .......... 4.11M\n",
      "    50K .......... .......... ..                               1.55M=0.03s\n",
      "\n",
      "2023-12-19 08:28:53 (2.72 MB/s) - ‘index.html’ saved [74091]\n",
      "\n"
     ]
    },
    {
     "name": "stdout",
     "output_type": "stream",
     "text": [
      "level =  19.9\n",
      "total time elapsed per loop:  0.05389595031738281\n"
     ]
    },
    {
     "name": "stderr",
     "output_type": "stream",
     "text": [
      "--2023-12-19 08:29:53--  http://129.82.140.70/\n",
      "Connecting to 129.82.140.70:80... connected.\n",
      "HTTP request sent, awaiting response... 200 OK\n",
      "Length: unspecified [text/html]\n",
      "Saving to: ‘index.html’\n",
      "\n",
      "     0K .......... .......... .......... .......... .......... 4.13M\n",
      "    50K .......... .......... ..                               1.56M=0.03s\n",
      "\n",
      "2023-12-19 08:29:53 (2.73 MB/s) - ‘index.html’ saved [74091]\n",
      "\n"
     ]
    },
    {
     "name": "stdout",
     "output_type": "stream",
     "text": [
      "level =  19.8\n",
      "total time elapsed per loop:  0.05349540710449219\n"
     ]
    }
   ],
   "source": [
    "import os\n",
    "import time\n",
    "\n",
    "# how long to wait to acquire another measurement\n",
    "time_delay = 60\n",
    "\n",
    "# ip address of the level monitor\n",
    "ip_address = '129.82.140.70'\n",
    "\n",
    "\n",
    "while True:\n",
    "    start_time = time.time()\n",
    "    \n",
    "    # grab html for level monitor webpage\n",
    "    os.system('rm -f index.html')\n",
    "    os.system(f'wget http://{ip_address}/')\n",
    "    #<span id=\"LN2_Level_display\">17.4</span>\n",
    "    # get level %, plot\n",
    "    filepath = 'index.html'\n",
    "    with open(filepath) as f:\n",
    "        line = f.readline()\n",
    "\n",
    "        while line:\n",
    "                text = line.split('<span id=')\n",
    "                if len(text) > 1:\n",
    "                    text = text[1].split('>')\n",
    "                #if text[0] == '<span class=\"var-level-single-n2\">':\n",
    "                if text[0] == '\"LN2_Level_display\"':\n",
    "                    #level = float(text[1].split('&lt;')[1].split('</span')[0])\n",
    "                    level = float(text[1].split('<')[0])\n",
    "                    print('level = ', level)\n",
    "                    fig.add_scatter(x=[start_time - initial_time], y=[level],showlegend=False,\\\n",
    "                                   marker=dict(color='blue',size=5))\n",
    "                    times.append(start_time)\n",
    "                    levels.append(level)\n",
    "                    if level > ymax:\n",
    "                        ymax += 5\n",
    "                        fig.update_layout(yaxis_range=[ymin,ymax])\n",
    "                \n",
    "                line = f.readline()\n",
    "        end_time = time.time()\n",
    "\n",
    "    end_time = time.time()\n",
    "    print('total time elapsed per loop: ',end_time - start_time)\n",
    "    time.sleep(time_delay)"
   ]
  },
  {
   "cell_type": "code",
   "execution_count": null,
   "id": "e9c80830",
   "metadata": {},
   "outputs": [],
   "source": [
    "ymin=15\n",
    "ymax=30\n",
    "fig.update_layout(yaxis_range=[ymin,ymax])"
   ]
  },
  {
   "cell_type": "code",
   "execution_count": 4,
   "id": "0a3755cc",
   "metadata": {},
   "outputs": [],
   "source": [
    "# save level data\n",
    "\n",
    "descriptor = 'Dec2023_LArBoilOff_SingleCube'\n",
    "filename = 'LArLevelMonitor_' + descriptor + '_' + str(int(initial_time)) + '_to_' + str(int(end_time)) + '_seconds'\n",
    "fig.write_html('html/' + filename + '.html')\n",
    "#fig.write_image('images/'+ filename + '.png')\n",
    "\n",
    "combined_data = zip(times, levels)\n",
    "with open('txt/' + filename+'.txt', 'w') as file:\n",
    "    # Write the header or column names\n",
    "    file.write('Times of Measurement (s),Level Percentage\\n')\n",
    "    \n",
    "    # Write the data rows\n",
    "    for data in combined_data:\n",
    "        file.write(f'{data[0]},{data[1]}\\n')"
   ]
  },
  {
   "cell_type": "code",
   "execution_count": null,
   "id": "d63a408c",
   "metadata": {},
   "outputs": [],
   "source": []
  }
 ],
 "metadata": {
  "kernelspec": {
   "display_name": "Python 3 (ipykernel)",
   "language": "python",
   "name": "python3"
  },
  "language_info": {
   "codemirror_mode": {
    "name": "ipython",
    "version": 3
   },
   "file_extension": ".py",
   "mimetype": "text/x-python",
   "name": "python",
   "nbconvert_exporter": "python",
   "pygments_lexer": "ipython3",
   "version": "3.8.10"
  }
 },
 "nbformat": 4,
 "nbformat_minor": 5
}
