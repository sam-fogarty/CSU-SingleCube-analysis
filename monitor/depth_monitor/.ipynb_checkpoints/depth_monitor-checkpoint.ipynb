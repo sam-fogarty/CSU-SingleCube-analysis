{
 "cells": [
  {
   "cell_type": "code",
   "execution_count": 1,
   "id": "6b035287",
   "metadata": {},
   "outputs": [
    {
     "data": {
      "application/vnd.jupyter.widget-view+json": {
       "model_id": "24b43177cb3044c78af5e76d944c48b1",
       "version_major": 2,
       "version_minor": 0
      },
      "text/plain": [
       "FigureWidget({\n",
       "    'data': [],\n",
       "    'layout': {'autosize': False,\n",
       "               'height': 600,\n",
       "               'template': '...',\n",
       "               'title': {'automargin': False,\n",
       "                         'font': {'size': 20},\n",
       "                         'text': 'Liquid Argon Level Percentage',\n",
       "                         'yref': 'paper'},\n",
       "               'width': 1000,\n",
       "               'xaxis': {'title': {'text': 'Time since start (seconds)'}},\n",
       "               'yaxis': {'title': {'text': 'Level %'}}}\n",
       "})"
      ]
     },
     "execution_count": 1,
     "metadata": {},
     "output_type": "execute_result"
    }
   ],
   "source": [
    "# create live figure\n",
    "import plotly.graph_objects as go\n",
    "\n",
    "fig = go.FigureWidget(go.Figure())\n",
    "\n",
    "fig.update_layout(\n",
    "    autosize=False,\n",
    "    width=1000,\n",
    "    height=600,)\n",
    "\n",
    "fig.update_layout(\n",
    "    title=dict(text=\"Liquid Argon Level Percentage\", font=dict(size=20), automargin=False, yref='paper'),\n",
    "    xaxis_title=dict(text=\"Time since start (seconds)\"),\n",
    "    yaxis_title=dict(text=\"Level %\")\n",
    ")\n",
    "\n",
    "fig\n",
    "\n"
   ]
  },
  {
   "cell_type": "code",
   "execution_count": null,
   "id": "1ce2e83f",
   "metadata": {},
   "outputs": [],
   "source": []
  },
  {
   "cell_type": "code",
   "execution_count": 2,
   "id": "3428710e",
   "metadata": {},
   "outputs": [],
   "source": [
    "# create arrays to store values\n",
    "times = []\n",
    "levels = []"
   ]
  },
  {
   "cell_type": "code",
   "execution_count": 3,
   "id": "25743f88",
   "metadata": {},
   "outputs": [
    {
     "name": "stderr",
     "output_type": "stream",
     "text": [
      "--2023-06-21 11:33:26--  http://129.82.140.60/\n",
      "Connecting to 129.82.140.60:80... connected.\n",
      "HTTP request sent, awaiting response... 200 OK\n",
      "Length: unspecified [text/html]\n",
      "Saving to: ‘index.html’\n",
      "\n",
      "     0K .......... .......... .......... .......... .......... 2.20M\n",
      "    50K .......... .......... ..                               3.57M=0.03s\n",
      "\n",
      "2023-06-21 11:33:26 (2.49 MB/s) - ‘index.html’ saved [74095]\n",
      "\n"
     ]
    },
    {
     "name": "stdout",
     "output_type": "stream",
     "text": [
      "total time elapsed per loop:  0.12790703773498535\n"
     ]
    },
    {
     "name": "stderr",
     "output_type": "stream",
     "text": [
      "--2023-06-21 11:33:28--  http://129.82.140.60/\n",
      "Connecting to 129.82.140.60:80... connected.\n",
      "HTTP request sent, awaiting response... 200 OK\n",
      "Length: unspecified [text/html]\n",
      "Saving to: ‘index.html’\n",
      "\n",
      "     0K .......... .......... .......... .......... .......... 1.22M\n",
      "    50K .......... .......... ..                               2.18M=0.05s\n",
      "\n",
      "2023-06-21 11:33:28 (1.41 MB/s) - ‘index.html’ saved [74095]\n",
      "\n"
     ]
    },
    {
     "name": "stdout",
     "output_type": "stream",
     "text": [
      "total time elapsed per loop:  0.15462827682495117\n"
     ]
    },
    {
     "name": "stderr",
     "output_type": "stream",
     "text": [
      "--2023-06-21 11:33:30--  http://129.82.140.60/\n",
      "Connecting to 129.82.140.60:80... connected.\n",
      "HTTP request sent, awaiting response... 200 OK\n",
      "Length: unspecified [text/html]\n",
      "Saving to: ‘index.html’\n",
      "\n",
      "     0K .......... .......... .......... .......... .......... 2.33M\n",
      "    50K .......... .......... ..                               2.72M=0.03s\n",
      "\n",
      "2023-06-21 11:33:30 (2.44 MB/s) - ‘index.html’ saved [74095]\n",
      "\n"
     ]
    },
    {
     "name": "stdout",
     "output_type": "stream",
     "text": [
      "total time elapsed per loop:  0.10413098335266113\n"
     ]
    },
    {
     "name": "stderr",
     "output_type": "stream",
     "text": [
      "--2023-06-21 11:33:32--  http://129.82.140.60/\n",
      "Connecting to 129.82.140.60:80... connected.\n",
      "HTTP request sent, awaiting response... 200 OK\n",
      "Length: unspecified [text/html]\n",
      "Saving to: ‘index.html’\n",
      "\n",
      "     0K .......... .......... .......... .......... .......... 1.64M\n",
      "    50K .......... .......... ..                               3.17M=0.04s\n",
      "\n",
      "2023-06-21 11:33:32 (1.93 MB/s) - ‘index.html’ saved [74095]\n",
      "\n"
     ]
    },
    {
     "name": "stdout",
     "output_type": "stream",
     "text": [
      "total time elapsed per loop:  0.11158990859985352\n"
     ]
    },
    {
     "name": "stderr",
     "output_type": "stream",
     "text": [
      "--2023-06-21 11:33:34--  http://129.82.140.60/\n",
      "Connecting to 129.82.140.60:80... connected.\n",
      "HTTP request sent, awaiting response... 200 OK\n",
      "Length: unspecified [text/html]\n",
      "Saving to: ‘index.html’\n",
      "\n",
      "     0K .......... .......... .......... .......... ..........  904K\n",
      "    50K .......... .......... ..                               2.98M=0.06s\n",
      "\n",
      "2023-06-21 11:33:34 (1.13 MB/s) - ‘index.html’ saved [74095]\n",
      "\n"
     ]
    },
    {
     "name": "stdout",
     "output_type": "stream",
     "text": [
      "total time elapsed per loop:  0.13458681106567383\n"
     ]
    },
    {
     "name": "stderr",
     "output_type": "stream",
     "text": [
      "--2023-06-21 11:33:36--  http://129.82.140.60/\n",
      "Connecting to 129.82.140.60:80... connected.\n",
      "HTTP request sent, awaiting response... 200 OK\n",
      "Length: unspecified [text/html]\n",
      "Saving to: ‘index.html’\n",
      "\n",
      "     0K .......... .......... .......... .......... .......... 1.71M\n",
      "    50K .......... .......... ..                               4.13M=0.03s\n",
      "\n",
      "2023-06-21 11:33:36 (2.09 MB/s) - ‘index.html’ saved [74095]\n",
      "\n"
     ]
    },
    {
     "name": "stdout",
     "output_type": "stream",
     "text": [
      "total time elapsed per loop:  0.10401391983032227\n"
     ]
    },
    {
     "name": "stderr",
     "output_type": "stream",
     "text": [
      "--2023-06-21 11:33:39--  http://129.82.140.60/\n",
      "Connecting to 129.82.140.60:80... connected.\n",
      "HTTP request sent, awaiting response... 200 OK\n",
      "Length: unspecified [text/html]\n",
      "Saving to: ‘index.html’\n",
      "\n",
      "     0K .......... .......... .......... .......... .......... 1006K\n",
      "    50K .......... .......... ..                               2.01M=0.06s\n",
      "\n",
      "2023-06-21 11:33:39 (1.17 MB/s) - ‘index.html’ saved [74095]\n",
      "\n"
     ]
    },
    {
     "name": "stdout",
     "output_type": "stream",
     "text": [
      "total time elapsed per loop:  0.16402578353881836\n"
     ]
    },
    {
     "name": "stderr",
     "output_type": "stream",
     "text": [
      "--2023-06-21 11:33:41--  http://129.82.140.60/\n",
      "Connecting to 129.82.140.60:80... connected.\n",
      "HTTP request sent, awaiting response... 200 OK\n",
      "Length: unspecified [text/html]\n",
      "Saving to: ‘index.html’\n",
      "\n",
      "     0K .......... .......... .......... .......... .......... 2.64M\n",
      "    50K .......... .......... ..                               3.05M=0.03s\n",
      "\n",
      "2023-06-21 11:33:41 (2.75 MB/s) - ‘index.html’ saved [74095]\n",
      "\n"
     ]
    },
    {
     "name": "stdout",
     "output_type": "stream",
     "text": [
      "total time elapsed per loop:  0.09954404830932617\n"
     ]
    },
    {
     "ename": "KeyboardInterrupt",
     "evalue": "",
     "output_type": "error",
     "traceback": [
      "\u001b[0;31m---------------------------------------------------------------------------\u001b[0m",
      "\u001b[0;31mKeyboardInterrupt\u001b[0m                         Traceback (most recent call last)",
      "\u001b[0;32m/var/folders/dc/52hbwd7j7hz065sqpvxpqy280000gn/T/ipykernel_90822/2207178844.py\u001b[0m in \u001b[0;36m<module>\u001b[0;34m\u001b[0m\n\u001b[1;32m     34\u001b[0m     \u001b[0mend_time\u001b[0m \u001b[0;34m=\u001b[0m \u001b[0mtime\u001b[0m\u001b[0;34m.\u001b[0m\u001b[0mtime\u001b[0m\u001b[0;34m(\u001b[0m\u001b[0;34m)\u001b[0m\u001b[0;34m\u001b[0m\u001b[0;34m\u001b[0m\u001b[0m\n\u001b[1;32m     35\u001b[0m     \u001b[0mprint\u001b[0m\u001b[0;34m(\u001b[0m\u001b[0;34m'total time elapsed per loop: '\u001b[0m\u001b[0;34m,\u001b[0m\u001b[0mend_time\u001b[0m \u001b[0;34m-\u001b[0m \u001b[0mstart_time\u001b[0m\u001b[0;34m)\u001b[0m\u001b[0;34m\u001b[0m\u001b[0;34m\u001b[0m\u001b[0m\n\u001b[0;32m---> 36\u001b[0;31m     \u001b[0mtime\u001b[0m\u001b[0;34m.\u001b[0m\u001b[0msleep\u001b[0m\u001b[0;34m(\u001b[0m\u001b[0mtime_delay\u001b[0m\u001b[0;34m)\u001b[0m\u001b[0;34m\u001b[0m\u001b[0;34m\u001b[0m\u001b[0m\n\u001b[0m",
      "\u001b[0;31mKeyboardInterrupt\u001b[0m: "
     ]
    }
   ],
   "source": [
    "import os\n",
    "import time\n",
    "\n",
    "# how long to wait to acquire another measurement\n",
    "time_delay = 2 \n",
    "\n",
    "# ip address of the level monitor\n",
    "ip_address = '129.82.140.60'\n",
    "\n",
    "initial_time = time.time()\n",
    "while True:\n",
    "    start_time = time.time()\n",
    "    \n",
    "    # grab html for level monitor webpage\n",
    "    os.system('rm -f index.html')\n",
    "    os.system(f'wget http://{ip_address}/')\n",
    "\n",
    "    # get level %, plot\n",
    "    filepath = 'index.html'\n",
    "    with open(filepath) as f:\n",
    "        line = f.readline()\n",
    "\n",
    "        while line:\n",
    "            text = line.split('<span id=')\n",
    "            if text[0] == '<span class=\"var-level-single-n2\">':\n",
    "                level = float(text[1].split('&lt;')[1].split('</span')[0])\n",
    "                fig.add_scatter(x=[start_time - initial_time], y=[level],showlegend=False,\\\n",
    "                               marker=dict(color='blue',size=5))\n",
    "                times.append(start_time)\n",
    "                levels.append(level)\n",
    "                \n",
    "            line = f.readline()\n",
    "\n",
    "    end_time = time.time()\n",
    "    print('total time elapsed per loop: ',end_time - start_time)\n",
    "    time.sleep(time_delay)"
   ]
  },
  {
   "cell_type": "code",
   "execution_count": 4,
   "id": "0a3755cc",
   "metadata": {},
   "outputs": [],
   "source": [
    "# save level data\n",
    "\n",
    "descriptor = 'Test'\n",
    "filename = 'LArLevelMonitor_' + descriptor + '_' + str(int(initial_time)) + '_to_' + str(int(end_time)) + '_seconds'\n",
    "fig.write_html('html/' + filename + '.html')\n",
    "fig.write_image('images/'+ filename + '.png')\n",
    "\n",
    "combined_data = zip(times, levels)\n",
    "with open('txt/' + filename+'.txt', 'w') as file:\n",
    "    # Write the header or column names\n",
    "    file.write('Times of Measurement (s),Level Percentage\\n')\n",
    "    \n",
    "    # Write the data rows\n",
    "    for data in combined_data:\n",
    "        file.write(f'{data[0]},{data[1]}\\n')"
   ]
  },
  {
   "cell_type": "code",
   "execution_count": null,
   "id": "d63a408c",
   "metadata": {},
   "outputs": [],
   "source": []
  }
 ],
 "metadata": {
  "kernelspec": {
   "display_name": "Python 3 (ipykernel)",
   "language": "python",
   "name": "python3"
  },
  "language_info": {
   "codemirror_mode": {
    "name": "ipython",
    "version": 3
   },
   "file_extension": ".py",
   "mimetype": "text/x-python",
   "name": "python",
   "nbconvert_exporter": "python",
   "pygments_lexer": "ipython3",
   "version": "3.9.7"
  }
 },
 "nbformat": 4,
 "nbformat_minor": 5
}
