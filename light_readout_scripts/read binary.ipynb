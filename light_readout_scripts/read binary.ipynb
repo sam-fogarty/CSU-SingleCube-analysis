{
 "cells": [
  {
   "cell_type": "code",
   "execution_count": null,
   "id": "26045c09",
   "metadata": {},
   "outputs": [],
   "source": [
    "from numpy import fromfile, dtype, array, float32, uint16, uint32, uint64, int32\n",
    "from os import path\n",
    "import matplotlib.pylab as plt\n",
    "\n",
    "import os\n",
    "import numpy as np\n",
    "import matplotlib.pyplot as plt\n",
    "from scipy.signal import butter, filtfilt"
   ]
  },
  {
   "cell_type": "code",
   "execution_count": null,
   "id": "5bcd8a59",
   "metadata": {},
   "outputs": [],
   "source": [
    "filepath = \"LAr_test_45Vbias_threshold8mV_dig2-usb25715_20250117154944-12.bin\"\n",
    "file = open(filepath, 'rb')\n",
    "dt = dtype(float32)\n",
    "\n",
    "wvfms_all = []\n",
    "for i in range(3000):\n",
    "    wvfms_event = []\n",
    "    # read header for event\n",
    "    event_number = fromfile(file, dtype=uint32, count=1)\n",
    "    if len(event_number) == 0:\n",
    "        print('i = ', i)\n",
    "        break\n",
    "    event_number = event_number[0]\n",
    "    timestamp = fromfile(file, dtype=uint64, count=1)[0]\n",
    "    num_samples = fromfile(file, dtype=uint32, count=1)[0]\n",
    "    sampling_period = fromfile(file, dtype=uint64, count=1)[0]\n",
    "    channels = fromfile(file, dtype=uint32, count=1)[0]\n",
    "    #print('event number: ', event_number)\n",
    "    #print('timestamp: ', timestamp)\n",
    "    #print('num_samples: ', num_samples)\n",
    "    #print('sampling period: ', sampling_period)\n",
    "    #print('number of channels: ', channels)\n",
    "    for j in range(channels):\n",
    "        channel = fromfile(file, dtype=uint16, count=1)[0]\n",
    "        #print('channel: ', channel)\n",
    "        trace = fromfile(file, dtype=dt, count=num_samples)\n",
    "        wvfms_event.append(trace)\n",
    "\n",
    "    wvfms_all.append(wvfms_event)\n",
    "\n",
    "file.close()"
   ]
  },
  {
   "cell_type": "code",
   "execution_count": null,
   "id": "7f1045a7",
   "metadata": {},
   "outputs": [],
   "source": [
    "len(wvfms_all)"
   ]
  },
  {
   "cell_type": "code",
   "execution_count": null,
   "id": "caf870af",
   "metadata": {},
   "outputs": [],
   "source": [
    "len(wvfms_all[0][0])"
   ]
  },
  {
   "cell_type": "code",
   "execution_count": null,
   "id": "e6e22ed6",
   "metadata": {},
   "outputs": [],
   "source": [
    "12500*6*452"
   ]
  },
  {
   "cell_type": "code",
   "execution_count": null,
   "id": "cfff4000",
   "metadata": {},
   "outputs": [],
   "source": [
    "def filter_data(data, cutoff_freq, order):\n",
    "    sampling_freq = 125e6\n",
    "    normalized_cutoff_freq = cutoff_freq / (sampling_freq / 2)\n",
    "    b, a = butter(order, normalized_cutoff_freq, btype='lowpass', analog=False)\n",
    "    filtered_waveform = filtfilt(b, a, data)\n",
    "    return filtered_waveform"
   ]
  },
  {
   "cell_type": "code",
   "execution_count": null,
   "id": "5f76752d",
   "metadata": {},
   "outputs": [],
   "source": [
    "amplitudes = []\n",
    "for ID in range(len(wvfms_all)):\n",
    "    for i in range(6):\n",
    "        if i == 1:\n",
    "            continue\n",
    "        wvfm = filter_data(wvfms_all[ID][i], 2e6, 2)\n",
    "        amplitudes.append(np.max(wvfm))\n",
    "        if np.max(wvfm) > 200:\n",
    "            print('ID = ', ID)\n",
    "        #plt.plot(wvfms_all[11][i])\n",
    "        #plt.plot(np.arange(len(wvfms_all[ID][i]))*0.008, filter_data(wvfms_all[ID][i], 10e6, 2))\n",
    "        #plt.xlim(10, 30)\n",
    "    \n",
    "\n",
    "#plt.xlabel('Time [usec]')\n",
    "#plt.show()"
   ]
  },
  {
   "cell_type": "code",
   "execution_count": null,
   "id": "6bb34e65",
   "metadata": {},
   "outputs": [],
   "source": [
    "amplitudes"
   ]
  },
  {
   "cell_type": "code",
   "execution_count": null,
   "id": "ccad8503",
   "metadata": {},
   "outputs": [],
   "source": [
    "plt.hist(amplitudes, range=(0,4), bins=20)\n",
    "plt.yscale('log')\n",
    "#plt.xlim(0, 100)\n",
    "plt.show()\n"
   ]
  },
  {
   "cell_type": "code",
   "execution_count": null,
   "id": "0ec419d7",
   "metadata": {},
   "outputs": [],
   "source": [
    "plt.figure()\n",
    "ID = 0\n",
    "for i in range(6):\n",
    "    \n",
    "    #plt.plot(wvfms_all[11][i])\n",
    "    plt.plot(np.arange(len(wvfms_all[ID][i]))*0.008, filter_data(wvfms_all[ID][i], 2e6, 2), label=f'Channel {i}')\n",
    "    plt.xlim(10, 30)\n",
    "    plt.legend()\n",
    "    \n",
    "plt.xlabel('Time [usec]')\n",
    "plt.show()"
   ]
  },
  {
   "cell_type": "code",
   "execution_count": null,
   "id": "7e528de3",
   "metadata": {},
   "outputs": [],
   "source": []
  },
  {
   "cell_type": "code",
   "execution_count": null,
   "id": "57ed55ac",
   "metadata": {},
   "outputs": [],
   "source": []
  },
  {
   "cell_type": "code",
   "execution_count": null,
   "id": "fe7a5409",
   "metadata": {},
   "outputs": [],
   "source": []
  },
  {
   "cell_type": "code",
   "execution_count": null,
   "id": "22568f41",
   "metadata": {},
   "outputs": [],
   "source": []
  },
  {
   "cell_type": "code",
   "execution_count": null,
   "id": "bf53ee8d",
   "metadata": {},
   "outputs": [],
   "source": []
  },
  {
   "cell_type": "code",
   "execution_count": null,
   "id": "56468962",
   "metadata": {},
   "outputs": [],
   "source": []
  }
 ],
 "metadata": {
  "kernelspec": {
   "display_name": "Python 3 (ipykernel)",
   "language": "python",
   "name": "python3"
  },
  "language_info": {
   "codemirror_mode": {
    "name": "ipython",
    "version": 3
   },
   "file_extension": ".py",
   "mimetype": "text/x-python",
   "name": "python",
   "nbconvert_exporter": "python",
   "pygments_lexer": "ipython3",
   "version": "3.11.5"
  }
 },
 "nbformat": 4,
 "nbformat_minor": 5
}
